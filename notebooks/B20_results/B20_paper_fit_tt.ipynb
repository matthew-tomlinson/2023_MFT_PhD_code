{
 "cells": [
  {
   "cell_type": "code",
   "execution_count": null,
   "metadata": {},
   "outputs": [],
   "source": [
    "import sys\n",
    "import os\n",
    "\n",
    "import numpy as np\n",
    "import matplotlib\n",
    "import matplotlib.pyplot as plt\n",
    "import scipy\n",
    "import pandas as pd\n",
    "import datetime\n",
    "import copy\n",
    "\n",
    "# Local files\n",
    "__root__ = '../../'\n",
    "__pydirs__ = ['py', 'settings']\n",
    "module_path = os.path.abspath(os.path.join(__root__[:-1]))\n",
    "if module_path not in sys.path:\n",
    "    for pydir in __pydirs__:\n",
    "        sys.path.append(f\"{module_path}/{pydir}/\")\n",
    "\n",
    "import T23_setup\n",
    "\n",
    "import log_ret as log_ret\n",
    "\n",
    "import misc_functions as misc_fns"
   ]
  },
  {
   "cell_type": "code",
   "execution_count": null,
   "metadata": {},
   "outputs": [],
   "source": [
    "_setup_T23 = T23_setup.setup_T23(__C__='Cm3', __fit__=True, __vares__=False,\n",
    "                                    set_cv=False, set_tt=True,\n",
    "                                    all_end=pd.Timestamp('2023-09-16')\n",
    "                                    )"
   ]
  },
  {
   "cell_type": "code",
   "execution_count": null,
   "metadata": {},
   "outputs": [],
   "source": [
    "for x in _setup_T23['a_q']:\n",
    "    print(x)"
   ]
  },
  {
   "cell_type": "code",
   "execution_count": null,
   "metadata": {},
   "outputs": [],
   "source": [
    "for x in _setup_T23['tt_a_u']:\n",
    "    print(x)"
   ]
  },
  {
   "cell_type": "code",
   "execution_count": null,
   "metadata": {},
   "outputs": [],
   "source": [
    "B20 = log_ret.log_ret(dir_base=__root__, ticks=_setup_T23['ticks'])\n",
    "B20.set_tk(**misc_fns.dict_key_rm(_setup_T23, keys_rm='ticks'))"
   ]
  },
  {
   "cell_type": "code",
   "execution_count": null,
   "metadata": {},
   "outputs": [],
   "source": [
    "for tick in B20.tk:\n",
    "    print(B20.tk[tick].pd.lr['p']['all'].index[0],\n",
    "            B20.tk[tick].pd.lr['p']['train'].index[-1], \n",
    "            B20.tk[tick].pd.lr['p']['forecast'][0][0].index[0], \n",
    "            B20.tk[tick].pd.lr['p']['all'].index[-1])"
   ]
  },
  {
   "cell_type": "code",
   "execution_count": null,
   "metadata": {},
   "outputs": [],
   "source": [
    "for fix_a_lambda in [True, False]:\n",
    "    #for i in range(0, B20_setup['a_u'].size):\n",
    "    #for i in range(0, 1):\n",
    "    for i in range(0, _setup_T23['tt_a_u'].size):\n",
    "        B20.set_fit_tt_mp_tick(write_tick=True, \n",
    "                            a_u_rng=[i], tt_read_params=False, tt_fit_if_need=True, \n",
    "                            print_tt_fit_time=True, print_res_time=True, append_fit_tt_w=True, \n",
    "                            print_mp_time=True, tt_fix_a_lambda=fix_a_lambda)"
   ]
  }
 ],
 "metadata": {
  "interpreter": {
   "hash": "5820961dc45f752ab910d37f3b5f71eba19001bf3d465bd19624696e4787e758"
  },
  "kernelspec": {
   "display_name": "Python 3.7.5 64-bit ('PhD': conda)",
   "name": "python3"
  },
  "language_info": {
   "codemirror_mode": {
    "name": "ipython",
    "version": 3
   },
   "file_extension": ".py",
   "mimetype": "text/x-python",
   "name": "python",
   "nbconvert_exporter": "python",
   "pygments_lexer": "ipython3",
   "version": "3.9.7"
  },
  "metadata": {
   "interpreter": {
    "hash": "5820961dc45f752ab910d37f3b5f71eba19001bf3d465bd19624696e4787e758"
   }
  },
  "orig_nbformat": 2
 },
 "nbformat": 4,
 "nbformat_minor": 2
}
