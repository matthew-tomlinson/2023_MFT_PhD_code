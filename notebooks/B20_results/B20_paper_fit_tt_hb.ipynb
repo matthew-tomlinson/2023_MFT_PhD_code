{
 "cells": [
  {
   "cell_type": "code",
   "execution_count": null,
   "metadata": {},
   "outputs": [],
   "source": [
    "import sys\n",
    "import os\n",
    "\n",
    "import numpy as np\n",
    "import matplotlib\n",
    "import matplotlib.pyplot as plt\n",
    "import scipy\n",
    "import pandas as pd\n",
    "import datetime\n",
    "import copy\n",
    "\n",
    "# Local files\n",
    "__root__ = '../../'\n",
    "__pydirs__ = ['py', 'settings']\n",
    "module_path = os.path.abspath(os.path.join(__root__[:-1]))\n",
    "if module_path not in sys.path:\n",
    "    for pydir in __pydirs__:\n",
    "        sys.path.append(f\"{module_path}/{pydir}/\")\n",
    "\n",
    "import T23_setup\n",
    "\n",
    "import log_ret\n",
    "\n",
    "import misc_functions as misc_fns"
   ]
  },
  {
   "cell_type": "code",
   "execution_count": null,
   "metadata": {},
   "outputs": [],
   "source": [
    "_setup_T23 = T23_setup.setup_T23(__C__='Cm3', __fit__=True, __vares__=True,\n",
    "                                    set_cv=False, set_tt=True,\n",
    "                                    all_end=pd.Timestamp('2023-09-16')\n",
    "                                    )"
   ]
  },
  {
   "cell_type": "code",
   "execution_count": null,
   "metadata": {},
   "outputs": [],
   "source": [
    "for x in _setup_T23['a_q']:\n",
    "    print(x)"
   ]
  },
  {
   "cell_type": "code",
   "execution_count": null,
   "metadata": {},
   "outputs": [],
   "source": [
    "for x in _setup_T23['tt_a_u']:\n",
    "    print(x)"
   ]
  },
  {
   "cell_type": "code",
   "execution_count": null,
   "metadata": {},
   "outputs": [],
   "source": [
    "B20 = log_ret.log_ret(dir_base=__root__, ticks=_setup_T23['ticks'])\n",
    "B20.set_tk(**misc_fns.dict_key_rm(_setup_T23, keys_rm='ticks'))"
   ]
  },
  {
   "cell_type": "code",
   "execution_count": null,
   "metadata": {},
   "outputs": [],
   "source": [
    "for tick in B20.tk:\n",
    "    print(B20.tk[tick].pd.lr['p']['all'].index[0],\n",
    "            B20.tk[tick].pd.lr['p']['train'].index[-1], \n",
    "            B20.tk[tick].pd.lr['p']['forecast'][0][0].index[0], \n",
    "            B20.tk[tick].pd.lr['p']['all'].index[-1])"
   ]
  },
  {
   "cell_type": "code",
   "execution_count": null,
   "metadata": {},
   "outputs": [],
   "source": [
    "for fix_a_lambda in [True, False]:\n",
    "    for i in range(0, _setup_T23['tt_a_u'].size):\n",
    "        B20.set_tt_hb_mp_tick(write_tick=True, \n",
    "                            a_u_rng=[i], tt_read_params=True, tt_hb_read_params=False, tt_fit_if_need=False, tt_fix_a_lambda=fix_a_lambda, append_fit_tt_w=True, set_eval=True, append_fit_tt_hb_w=True, append_vrs_tt_hb_w=True)"
   ]
  }
 ],
 "metadata": {
  "kernelspec": {
   "display_name": "Python 3.9.7 ('PhD')",
   "language": "python",
   "name": "python3"
  },
  "language_info": {
   "codemirror_mode": {
    "name": "ipython",
    "version": 3
   },
   "file_extension": ".py",
   "mimetype": "text/x-python",
   "name": "python",
   "nbconvert_exporter": "python",
   "pygments_lexer": "ipython3",
   "version": "3.9.7"
  },
  "metadata": {
   "interpreter": {
    "hash": "5820961dc45f752ab910d37f3b5f71eba19001bf3d465bd19624696e4787e758"
   }
  },
  "orig_nbformat": 2,
  "vscode": {
   "interpreter": {
    "hash": "fd8340d2582eefa5ca628a27f1e7a6743bf896490f5959a93668d62bf8eba09a"
   }
  }
 },
 "nbformat": 4,
 "nbformat_minor": 2
}
