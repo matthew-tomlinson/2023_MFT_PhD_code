{
 "cells": [
  {
   "cell_type": "code",
   "execution_count": null,
   "metadata": {},
   "outputs": [],
   "source": [
    "import sys\n",
    "import os\n",
    "\n",
    "import numpy as np\n",
    "import matplotlib\n",
    "import matplotlib.pyplot as plt\n",
    "import scipy\n",
    "import pandas as pd\n",
    "import datetime\n",
    "import copy\n",
    "\n",
    "# Local files\n",
    "__root__ = '../../'\n",
    "module_path = os.path.abspath(os.path.join(__root__[:-1]))\n",
    "if module_path not in sys.path:\n",
    "    sys.path.append(f\"{module_path}/py/\")\n",
    "\n",
    "import log_ret\n",
    "\n",
    "import misc_functions as misc_fns"
   ]
  },
  {
   "cell_type": "code",
   "execution_count": null,
   "metadata": {},
   "outputs": [],
   "source": [
    "B20_setup = dict()\n",
    "\n",
    "B20_setup['results_dir'] = f\"{__root__}results/\"\n",
    "\n",
    "B20_setup['datetime'] = dict()\n",
    "B20_setup['datetime']['dt'] = {'w': datetime.datetime.now(datetime.timezone.utc)}\n",
    "B20_setup['datetime']['str'] = {i: misc_fns.dt_str(B20_setup['datetime']['dt'][i]) for i in B20_setup['datetime']['dt']}\n",
    "\n",
    "\n",
    "B20_setup['ticks'] = ['SPX', 'DJI', 'DAX', 'CAC', 'NKX', 'HSI']\n",
    "\n",
    "B20_setup['a_q'] = np.array([float(f'{x:.5f}') for x in 0.0025*(1+np.array(range(60)))])\n",
    "\n",
    "B20_setup['a_u'] = np.array([float(f'{x:.5f}') for x in 0.0125*(1+np.array(range(20)))])\n",
    "\n",
    "\n",
    "B20_setup['mode_bound'] =   {\n",
    "                                'bi': 'both',\n",
    "                                'bi_d': ['both', 'left', 'right'],\n",
    "                                'ci': 'both',\n",
    "                                'ci_s': 'both',\n",
    "                            }\n",
    "\n",
    "B20_setup['dates'] = {\n",
    "                        'all_start': pd.Timestamp(\"1959-10-02\"),\n",
    "                        #'all_end': pd.Timestamp(\"2020-11-20\"),\n",
    "                        'all_end': pd.Timestamp(\"2023-09-16\"),\n",
    "                        'train_end': pd.Timestamp(\"2008-09-01\"),\n",
    "                    }"
   ]
  },
  {
   "cell_type": "code",
   "execution_count": null,
   "metadata": {},
   "outputs": [],
   "source": [
    "for x in B20_setup['a_q']:\n",
    "    print(x)"
   ]
  },
  {
   "cell_type": "code",
   "execution_count": null,
   "metadata": {},
   "outputs": [],
   "source": [
    "for x in B20_setup['a_u']:\n",
    "    print(x)"
   ]
  },
  {
   "cell_type": "code",
   "execution_count": null,
   "metadata": {},
   "outputs": [],
   "source": [
    "B20 = log_ret.log_ret(direct=__root__, ticks=B20_setup['ticks'])"
   ]
  },
  {
   "cell_type": "code",
   "execution_count": null,
   "metadata": {},
   "outputs": [],
   "source": [
    "\n",
    "B20.set_tk(\n",
    "                **B20_setup['dates'],\n",
    "                cv_vol=[\"GARCH\"], cv_p=1, cv_o=[0,1], cv_q=1, cv_dist=[\"norm\", \"t\"],\n",
    "                tt_a_u=B20_setup['a_u'], tt_dt_dt_fine=24,\n",
    "                hb_dist=[\"norm\", \"t\"], hb_bound=None, hb_mode_bound=B20_setup['mode_bound'],\n",
    "                a_q=B20_setup['a_q'],\n",
    "                #cv_set_am_stats=True, cv_set_eval=False, append_fit_cv_w=True, append_vrs_cv_w=False, cv_write_tick=False,\n",
    "                #tt_i_0=0, tt_read_params=True, tt_fit_if_need=False,\n",
    "                set_cv=False, set_tt=True,\n",
    "                CT_Q=[\"binom\", \"UC\", \"CC\", 'DQ_0', 'DQ_1', 'DQ_2', 'DQ_3', 'DQ_4'],\n",
    "                CT_E=['ZMD'],\n",
    "            )"
   ]
  },
  {
   "cell_type": "code",
   "execution_count": null,
   "metadata": {},
   "outputs": [],
   "source": [
    "for tick in B20.tk:\n",
    "    print(B20.tk[tick].pd.lr['p']['all'].index[0],\n",
    "            B20.tk[tick].pd.lr['p']['train'].index[-1], \n",
    "            B20.tk[tick].pd.lr['p']['forecast'][0][0].index[0], \n",
    "            B20.tk[tick].pd.lr['p']['all'].index[-1])"
   ]
  },
  {
   "cell_type": "code",
   "execution_count": null,
   "metadata": {},
   "outputs": [],
   "source": [
    "for fix_a_lambda in [True, False]:\n",
    "    for i in range(0, B20_setup['a_u'].size):\n",
    "        B20.set_tt_hb_mp_tick(write_tick=True, \n",
    "                            a_u_rng=[i], tt_read_params=True, tt_hb_read_params=False, tt_fit_if_need=False, tt_fix_a_lambda=fix_a_lambda, append_fit_tt_w=True, set_eval=True, append_fit_tt_hb_w=True, append_vrs_tt_hb_w=True)"
   ]
  }
 ],
 "metadata": {
  "kernelspec": {
   "display_name": "Python 3.9.7 ('PhD')",
   "language": "python",
   "name": "python3"
  },
  "language_info": {
   "codemirror_mode": {
    "name": "ipython",
    "version": 3
   },
   "file_extension": ".py",
   "mimetype": "text/x-python",
   "name": "python",
   "nbconvert_exporter": "python",
   "pygments_lexer": "ipython3",
   "version": "3.9.7"
  },
  "metadata": {
   "interpreter": {
    "hash": "5820961dc45f752ab910d37f3b5f71eba19001bf3d465bd19624696e4787e758"
   }
  },
  "orig_nbformat": 2,
  "vscode": {
   "interpreter": {
    "hash": "fd8340d2582eefa5ca628a27f1e7a6743bf896490f5959a93668d62bf8eba09a"
   }
  }
 },
 "nbformat": 4,
 "nbformat_minor": 2
}
